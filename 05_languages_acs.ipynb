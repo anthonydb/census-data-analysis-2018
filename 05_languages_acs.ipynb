{
 "cells": [
  {
   "cell_type": "markdown",
   "metadata": {},
   "source": [
    "# 2013-2017 American Community Survey (ACS) five-year estimates \n",
    "\n",
    "By [Christine Zhang](mailto:czhang@baltsun.com)\n",
    "\n",
    "## Language spoken at home"
   ]
  },
  {
   "cell_type": "markdown",
   "metadata": {},
   "source": [
    "### Import R data analysis libraries"
   ]
  },
  {
   "cell_type": "code",
   "execution_count": 62,
   "metadata": {},
   "outputs": [],
   "source": [
    "suppressMessages(library('tidyverse'))\n",
    "suppressMessages(library('tidycensus'))"
   ]
  },
  {
   "cell_type": "markdown",
   "metadata": {},
   "source": [
    "### \"Between 2008 and 2012, one in six Maryland residents spoke 'a language other than English' at home.\""
   ]
  },
  {
   "cell_type": "markdown",
   "metadata": {},
   "source": [
    "This number comes from the Census Bureau's American Factfinder tool [here](https://factfinder.census.gov/bkmk/table/1.0/en/ACS/12_5YR/S1601/0400000US24). 16.5 percent of Marylanders or about 1 in six spoke a language other than English at home."
   ]
  },
  {
   "cell_type": "markdown",
   "metadata": {},
   "source": [
    "### \"During the 2013 to 2017 period, this statistic increased to 18 percent — more than a million people.\""
   ]
  },
  {
   "cell_type": "markdown",
   "metadata": {},
   "source": [
    "We will use the `censusapi` package by [Hannah Recht](https://twitter.com/hannah_recht) to get stats on language spoken at home for Maryland (you'll need an API Key from http://api.census.gov/data/key_signup.html): `number_other_lang`: the number of people speaking another language than English at home, `perc_other_lang`: the percent of people speaking another language at home; `perc_english_very_well`: the percent of people speaking another language at home who also speak English very well. For more about `censusapi`, click [here](https://hrecht.github.io/censusapi/articles/getting-started.html) (you'll need an API Key from http://api.census.gov/data/key_signup.html). For more about Census APIs, click [here]"
   ]
  },
  {
   "cell_type": "code",
   "execution_count": 63,
   "metadata": {},
   "outputs": [
    {
     "name": "stderr",
     "output_type": "stream",
     "text": [
      "Warning message in responseFormat(raw):\n",
      "“NAs introduced by coercion”"
     ]
    }
   ],
   "source": [
    "language.md <- getCensus(name = \"acs/acs5/subject\", vintage = 2017,\n",
    "                        vars = c(\"NAME\", \"group(S1601)\"),\n",
    "                        region = \"state:24\") %>% select(state, NAME, \n",
    "                                                        GEO_ID, \n",
    "                                                        number_other_lang = S1601_C01_003E,\n",
    "                                                        perc_other_lang = S1601_C02_003E,\n",
    "                                                        perc_english_very_well = S1601_C04_003E)"
   ]
  },
  {
   "cell_type": "code",
   "execution_count": 64,
   "metadata": {},
   "outputs": [
    {
     "data": {
      "text/html": [
       "<table>\n",
       "<thead><tr><th scope=col>state</th><th scope=col>NAME</th><th scope=col>GEO_ID</th><th scope=col>number_other_lang</th><th scope=col>perc_other_lang</th><th scope=col>perc_english_very_well</th></tr></thead>\n",
       "<tbody>\n",
       "\t<tr><td>24         </td><td>Maryland   </td><td>0400000US24</td><td>1016077    </td><td>18         </td><td>63         </td></tr>\n",
       "</tbody>\n",
       "</table>\n"
      ],
      "text/latex": [
       "\\begin{tabular}{r|llllll}\n",
       " state & NAME & GEO\\_ID & number\\_other\\_lang & perc\\_other\\_lang & perc\\_english\\_very\\_well\\\\\n",
       "\\hline\n",
       "\t 24          & Maryland    & 0400000US24 & 1016077     & 18          & 63         \\\\\n",
       "\\end{tabular}\n"
      ],
      "text/markdown": [
       "\n",
       "state | NAME | GEO_ID | number_other_lang | perc_other_lang | perc_english_very_well | \n",
       "|---|\n",
       "| 24          | Maryland    | 0400000US24 | 1016077     | 18          | 63          | \n",
       "\n",
       "\n"
      ],
      "text/plain": [
       "  state NAME     GEO_ID      number_other_lang perc_other_lang\n",
       "1 24    Maryland 0400000US24 1016077           18             \n",
       "  perc_english_very_well\n",
       "1 63                    "
      ]
     },
     "metadata": {},
     "output_type": "display_data"
    }
   ],
   "source": [
    "language.md"
   ]
  },
  {
   "cell_type": "code",
   "execution_count": 65,
   "metadata": {},
   "outputs": [
    {
     "name": "stdout",
     "output_type": "stream",
     "text": [
      "[1] \"The number of people in Maryland who speak a language other than English at home is 1.02 million —  18 percent.\"\n"
     ]
    }
   ],
   "source": [
    "print(paste('The number of people in Maryland who speak a language other than English at home is',\n",
    "            round(language.md$number_other_lang/1000000, 2),\n",
    "            \"million — \",\n",
    "            language.md$perc_other_lang,\n",
    "            \"percent.\"))"
   ]
  },
  {
   "cell_type": "markdown",
   "metadata": {},
   "source": [
    "### The majority of residents who didn’t speak English at home said they spoke English “very well.”"
   ]
  },
  {
   "cell_type": "code",
   "execution_count": 66,
   "metadata": {},
   "outputs": [
    {
     "name": "stdout",
     "output_type": "stream",
     "text": [
      "[1] \"63 percent of Maryland residents who didn't speak English at home said they spoke English 'very well'.\"\n"
     ]
    }
   ],
   "source": [
    "print(paste(language.md$perc_english_very_well,\n",
    "            \"percent of Maryland residents who didn't speak English at home said they spoke English 'very well'.\"))"
   ]
  },
  {
   "cell_type": "markdown",
   "metadata": {},
   "source": [
    "### \"In Carroll County, which [adopted](https://www.baltimoresun.com/ph-ce-english-language-vote-20130124-story.html) English as the official language in 2013, the percent of residents speaking a language other than English at home remained unchanged (5 percent).\""
   ]
  },
  {
   "cell_type": "markdown",
   "metadata": {},
   "source": [
    "We will use the `censusapi` package by [Hannah Recht](https://twitter.com/hannah_recht) to get stats on language spoken at home for Maryland at the county level (you'll need an API Key from http://api.census.gov/data/key_signup.html): `number_other_lang`: the number of people speaking another language than English at home, `perc_other_lang`: the percent of people speaking another language at home; `perc_english_very_well`: the percent of people speaking another language at home who also speak English very well."
   ]
  },
  {
   "cell_type": "code",
   "execution_count": 67,
   "metadata": {},
   "outputs": [
    {
     "name": "stderr",
     "output_type": "stream",
     "text": [
      "Warning message in responseFormat(raw):\n",
      "“NAs introduced by coercion”"
     ]
    }
   ],
   "source": [
    "language.md.counties <- getCensus(name = \"acs/acs5/subject\", vintage = 2017,\n",
    "                        vars = c(\"NAME\", \"group(S1601)\"),\n",
    "                        region = \"county:*\", \n",
    "                        regionin = \"state:24\") %>% select(state, NAME, \n",
    "                                                         GEO_ID, \n",
    "                                                         number_other_lang = S1601_C01_003E,\n",
    "                                                         perc_other_lang = S1601_C02_003E,\n",
    "                                                         perc_english_very_well = S1601_C04_003E)"
   ]
  },
  {
   "cell_type": "code",
   "execution_count": 68,
   "metadata": {},
   "outputs": [
    {
     "data": {
      "text/html": [
       "<table>\n",
       "<thead><tr><th scope=col>state</th><th scope=col>NAME</th><th scope=col>GEO_ID</th><th scope=col>number_other_lang</th><th scope=col>perc_other_lang</th><th scope=col>perc_english_very_well</th></tr></thead>\n",
       "<tbody>\n",
       "\t<tr><td>24                      </td><td>Carroll County, Maryland</td><td>0500000US24013          </td><td>7954                    </td><td>5                       </td><td>75.5                    </td></tr>\n",
       "</tbody>\n",
       "</table>\n"
      ],
      "text/latex": [
       "\\begin{tabular}{r|llllll}\n",
       " state & NAME & GEO\\_ID & number\\_other\\_lang & perc\\_other\\_lang & perc\\_english\\_very\\_well\\\\\n",
       "\\hline\n",
       "\t 24                       & Carroll County, Maryland & 0500000US24013           & 7954                     & 5                        & 75.5                    \\\\\n",
       "\\end{tabular}\n"
      ],
      "text/markdown": [
       "\n",
       "state | NAME | GEO_ID | number_other_lang | perc_other_lang | perc_english_very_well | \n",
       "|---|\n",
       "| 24                       | Carroll County, Maryland | 0500000US24013           | 7954                     | 5                        | 75.5                     | \n",
       "\n",
       "\n"
      ],
      "text/plain": [
       "  state NAME                     GEO_ID         number_other_lang\n",
       "1 24    Carroll County, Maryland 0500000US24013 7954             \n",
       "  perc_other_lang perc_english_very_well\n",
       "1 5               75.5                  "
      ]
     },
     "metadata": {},
     "output_type": "display_data"
    }
   ],
   "source": [
    "language.md.counties %>% filter(NAME == 'Carroll County, Maryland')"
   ]
  },
  {
   "cell_type": "code",
   "execution_count": 69,
   "metadata": {},
   "outputs": [
    {
     "name": "stdout",
     "output_type": "stream",
     "text": [
      "[1] \"In Carroll County, 5 percent of residents speak a language other than English at home.\"\n"
     ]
    }
   ],
   "source": [
    "print(paste(\"In Carroll County,\",\n",
    "      language.md.counties[language.md.counties$NAME == 'Carroll County, Maryland',]$perc_other_lang,\n",
    "      \"percent of residents speak a language other than English at home.\"))"
   ]
  }
 ],
 "metadata": {
  "kernelspec": {
   "display_name": "R",
   "language": "R",
   "name": "ir"
  },
  "language_info": {
   "codemirror_mode": "r",
   "file_extension": ".r",
   "mimetype": "text/x-r-source",
   "name": "R",
   "pygments_lexer": "r",
   "version": "3.5.1"
  }
 },
 "nbformat": 4,
 "nbformat_minor": 2
}
