{
 "cells": [
  {
   "cell_type": "markdown",
   "metadata": {},
   "source": [
    "# 2013-2017 American Community Survey (ACS) five-year estimates \n",
    "\n",
    "By [Christine Zhang](mailto:czhang@baltsun.com)\n",
    "\n",
    "## Homeownership"
   ]
  },
  {
   "cell_type": "markdown",
   "metadata": {},
   "source": [
    "### Import R data analysis libraries"
   ]
  },
  {
   "cell_type": "code",
   "execution_count": 28,
   "metadata": {},
   "outputs": [],
   "source": [
    "suppressMessages(library('tidyverse'))\n",
    "suppressMessages(library('censusapi'))"
   ]
  },
  {
   "cell_type": "markdown",
   "metadata": {},
   "source": [
    "### \"In Maryland, white residents are nearly 3 times as likely to own their homes as black residents, according to the ACS.\""
   ]
  },
  {
   "cell_type": "markdown",
   "metadata": {},
   "source": [
    "We will use the `censusapi` package by [Hannah Recht](https://twitter.com/hannah_recht) to get stats on owned vs rented housing units for Maryland for black and non-Hispanic/Latino white residents from the 2013-17 ACS. For more about `censusapi`, click [here](https://hrecht.github.io/censusapi/articles/getting-started.html) (you'll need an API Key from http://api.census.gov/data/key_signup.html). For more about Census APIs, click [here](https://www.census.gov/data/developers/data-sets.html). For more information about race/ethnicity categories in the Census, click [here](http://www.pewsocialtrends.org/2015/06/11/chapter-1-race-and-multiracial-americans-in-the-u-s-census/)."
   ]
  },
  {
   "cell_type": "code",
   "execution_count": 132,
   "metadata": {},
   "outputs": [
    {
     "name": "stderr",
     "output_type": "stream",
     "text": [
      "Warning message in responseFormat(raw):\n",
      "“NAs introduced by coercion”"
     ]
    }
   ],
   "source": [
    "# apis <- listCensusApis()\n",
    "# apis %>% filter(vintage == 2017)\n",
    "# variable names: https://api.census.gov/data/2017/acs/acs5/subject/variables.html\n",
    "\n",
    "homeownership <- getCensus(name = \"acs/acs5/subject\", vintage = 2017,\n",
    "                           vars = c(\"NAME\", \"group(S2502)\"),\n",
    "                           region = \"state:24\") %>% select(state, NAME, \n",
    "                                                           GEO_ID, \n",
    "                                                           occupied_units_black = S2502_C01_003E,\n",
    "                                                           occupied_units_white_nhl = S2502_C01_010E,\n",
    "                                                           owned_units_black = S2502_C03_003E,\n",
    "                                                           owned_units_white_nhl = S2502_C03_010E, \n",
    "                                                           rented_units_black = S2502_C05_003E,\n",
    "                                                           rented_units_white_nhl = S2502_C05_010E)"
   ]
  },
  {
   "cell_type": "code",
   "execution_count": 49,
   "metadata": {
    "scrolled": false
   },
   "outputs": [],
   "source": [
    "homeownership <- homeownership %>% mutate(own_to_rent_black = owned_units_black/rented_units_black,\n",
    "                                          own_to_rent_white_nhl = owned_units_white_nhl/rented_units_white_nhl)"
   ]
  },
  {
   "cell_type": "code",
   "execution_count": 60,
   "metadata": {},
   "outputs": [
    {
     "name": "stdout",
     "output_type": "stream",
     "text": [
      "[1] \"In Maryland, white residents are 3 times as likely to own their homes as black residents.\"\n"
     ]
    }
   ],
   "source": [
    "print(paste('In Maryland, white residents are',\n",
    "            round(homeownership$own_to_rent_white_nhl/homeownership$own_to_rent_black),\n",
    "            'times as likely to own their homes as black residents.'))"
   ]
  },
  {
   "cell_type": "markdown",
   "metadata": {},
   "source": [
    "### \"In the Baltimore metro region, the white homeownership rate, 73.8 percent, is 3.8 times the black homeownership rate of 19.6 percent.\""
   ]
  },
  {
   "cell_type": "markdown",
   "metadata": {},
   "source": [
    "We will use the `censusapi` package to get homeownership rates for the Baltimore-Columbia-Townson metro area for black and non-Hispanic/Latino white residents from the 2013-17 ACS."
   ]
  },
  {
   "cell_type": "code",
   "execution_count": 119,
   "metadata": {},
   "outputs": [
    {
     "name": "stderr",
     "output_type": "stream",
     "text": [
      "Warning message in responseFormat(raw):\n",
      "“NAs introduced by coercion”"
     ]
    }
   ],
   "source": [
    "homeownership.balt <- getCensus(name = \"acs/acs5/subject\", vintage = 2017,\n",
    "                           vars = c(\"NAME\", \"group(S2502)\"),\n",
    "                           region = \"metropolitan statistical area/micropolitan statistical area:*\")"
   ]
  },
  {
   "cell_type": "code",
   "execution_count": 120,
   "metadata": {},
   "outputs": [],
   "source": [
    "homeownership.balt <- homeownership.balt %>% \n",
    "                      filter(NAME == 'Baltimore-Columbia-Towson, MD Metro Area') %>%\n",
    "                      select(NAME, GEO_ID, \n",
    "                             occupied_units_black = S2502_C01_003E, \n",
    "                             occupied_units_white_nhl = S2502_C01_010E, \n",
    "                             owned_units_black = S2502_C03_003E,\n",
    "                             owned_units_white_nhl = S2502_C03_010E, \n",
    "                             rented_units_black = S2502_C05_003E,\n",
    "                             rented_units_white_nhl = S2502_C05_010E,\n",
    "                             perc_owned_units_black = S2502_C04_003E,\n",
    "                             perc_owned_units_white_nhl = S2502_C04_010E\n",
    "                             )                  "
   ]
  },
  {
   "cell_type": "code",
   "execution_count": 122,
   "metadata": {},
   "outputs": [],
   "source": [
    "homeownership.balt <- homeownership.balt %>% mutate(own_to_rent_black = owned_units_black/rented_units_black,\n",
    "                                          own_to_rent_white_nhl = owned_units_white_nhl/rented_units_white_nhl)"
   ]
  },
  {
   "cell_type": "code",
   "execution_count": 123,
   "metadata": {},
   "outputs": [
    {
     "name": "stdout",
     "output_type": "stream",
     "text": [
      "[1] \"In the Baltimore metro area, white residents are 4 times as likely to own their homes as black residents.\"\n"
     ]
    }
   ],
   "source": [
    "print(paste('In the Baltimore metro area, white residents are',\n",
    "            round(homeownership.balt$own_to_rent_white_nhl/homeownership.balt$own_to_rent_black),\n",
    "            'times as likely to own their homes as black residents.'))"
   ]
  },
  {
   "cell_type": "code",
   "execution_count": 131,
   "metadata": {},
   "outputs": [
    {
     "name": "stdout",
     "output_type": "stream",
     "text": [
      "[1] \"In the Baltimore metro area, the white homeownership rate, 72 percent, is 3.7 times as high as the black homeownership rate of 19.6 percent.\"\n"
     ]
    }
   ],
   "source": [
    "print(paste('In the Baltimore metro area, the white homeownership rate,',\n",
    "            homeownership.balt$perc_owned_units_white_nhl,\n",
    "            'percent, is', \n",
    "           round(homeownership.balt$perc_owned_units_white_nhl/homeownership.balt$perc_owned_units_black, 1),\n",
    "           'times as high as the black homeownership rate of',\n",
    "           homeownership.balt$perc_owned_units_black, 'percent.'))"
   ]
  }
 ],
 "metadata": {
  "kernelspec": {
   "display_name": "R",
   "language": "R",
   "name": "ir"
  },
  "language_info": {
   "codemirror_mode": "r",
   "file_extension": ".r",
   "mimetype": "text/x-r-source",
   "name": "R",
   "pygments_lexer": "r",
   "version": "3.5.1"
  }
 },
 "nbformat": 4,
 "nbformat_minor": 2
}
