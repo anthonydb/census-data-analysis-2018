{
 "cells": [
  {
   "cell_type": "markdown",
   "metadata": {},
   "source": [
    "# 2013-2017 American Community Survey (ACS) five-year estimates \n",
    "\n",
    "By [Christine Zhang](mailto:czhang@baltsun.com)\n",
    "\n",
    "## Poverty"
   ]
  },
  {
   "cell_type": "markdown",
   "metadata": {},
   "source": [
    "### Import R data analysis libraries"
   ]
  },
  {
   "cell_type": "code",
   "execution_count": 2,
   "metadata": {},
   "outputs": [],
   "source": [
    "suppressMessages(library('tidyverse'))\n",
    "suppressMessages(library('tidycensus'))"
   ]
  },
  {
   "cell_type": "markdown",
   "metadata": {},
   "source": [
    "### \"According to the ACS, 14.6 percent of Americans lived below the poverty threshold during the 2013-17 period. That’s lower than the 2008-12 poverty rate of 14.9 percent.\""
   ]
  },
  {
   "cell_type": "markdown",
   "metadata": {},
   "source": [
    "These stats are from the Census Bureau [press release](https://www.census.gov/newsroom/press-releases/2018/2013-2017-acs-5year.html) under \"Poverty.\""
   ]
  },
  {
   "cell_type": "markdown",
   "metadata": {},
   "source": [
    "### \"Maryland’s overall poverty rate rose to 9.7 percent from 9.4 percent.\""
   ]
  },
  {
   "cell_type": "markdown",
   "metadata": {},
   "source": [
    "We will use the `tidycensus` package by [Kyle Walker](https://twitter.com/kyle_e_walker) to get poverty rates for Maryland (you'll need an API Key from http://api.census.gov/data/key_signup.html). For more about `tidycensus`, click [here](https://walkerke.github.io/tidycensus/index.html). For more about Census APIs, click [here](https://www.census.gov/data/developers/data-sets.html)."
   ]
  },
  {
   "cell_type": "code",
   "execution_count": 74,
   "metadata": {},
   "outputs": [
    {
     "name": "stderr",
     "output_type": "stream",
     "text": [
      "Getting data from the 2013-2017 5-year ACS\n",
      "Using the ACS Subject Tables\n",
      "Getting data from the 2008-2012 5-year ACS\n",
      "Using the ACS Data Profile\n"
     ]
    }
   ],
   "source": [
    "# v17 <- load_variables(2017, 'acs5/subject', cache = TRUE) \n",
    "# v17 %>% filter(grepl('Percent below poverty level', label))\n",
    "\n",
    "pov_perc_17 = get_acs(geography = 'state', \n",
    "                      year = 2017,\n",
    "                      variables = 'S1701_C03_001',\n",
    "                      state = \"MD\")\n",
    "\n",
    "pov_perc_12 = get_acs(geography = 'state', \n",
    "                      year = 2012,\n",
    "                      variables = 'DP03_0128P',\n",
    "                      state = \"MD\")"
   ]
  },
  {
   "cell_type": "markdown",
   "metadata": {},
   "source": [
    "Merge `pov_perc_17` with `pov_perc_12` to create `pov_perc.merged`. "
   ]
  },
  {
   "cell_type": "code",
   "execution_count": 75,
   "metadata": {},
   "outputs": [],
   "source": [
    "pov_perc.merged <- merge(pov_perc_17, pov_perc_12, by = c('NAME'), \n",
    "                   suffixes = c('_17', '_12'))"
   ]
  },
  {
   "cell_type": "code",
   "execution_count": 76,
   "metadata": {},
   "outputs": [
    {
     "name": "stdout",
     "output_type": "stream",
     "text": [
      "[1] \"Maryland's poverty rate according to the 2013-17 ACS was 9.7 percent. In the 2008-12 ACS, it was 9.4 percent.\"\n"
     ]
    }
   ],
   "source": [
    "print(paste(\"Maryland's poverty rate according to the 2013-17 ACS was\",\n",
    "            pov_perc.merged$estimate_17,\n",
    "            \"percent. In the 2008-12 ACS, it was\",\n",
    "            pov_perc.merged$estimate_12, \"percent.\"))"
   ]
  },
  {
   "cell_type": "markdown",
   "metadata": {},
   "source": [
    "Check if the difference is significant at the 90 percent confidence level. See [\"Understanding and Using American Community Survey Data: What All Data Users Need to Know\"](https://www.census.gov/programs-surveys/acs/guidance/handbooks/general.html) (starting from page 44) for more information."
   ]
  },
  {
   "cell_type": "code",
   "execution_count": 77,
   "metadata": {},
   "outputs": [
    {
     "data": {
      "text/html": [
       "<table>\n",
       "<thead><tr><th scope=col>NAME</th><th scope=col>GEOID_17</th><th scope=col>variable_17</th><th scope=col>estimate_17</th><th scope=col>moe_17</th><th scope=col>GEOID_12</th><th scope=col>variable_12</th><th scope=col>estimate_12</th><th scope=col>moe_12</th><th scope=col>se_12</th><th scope=col>se_17</th><th scope=col>diff</th><th scope=col>se_diff</th><th scope=col>t_diff</th><th scope=col>signif</th></tr></thead>\n",
       "<tbody>\n",
       "\t<tr><td>Maryland     </td><td>24           </td><td>S1701_C03_001</td><td>9.7          </td><td>0.1          </td><td>24           </td><td>DP03_0128P   </td><td>9.4          </td><td>0.2          </td><td>0.1215805    </td><td>0.06079027   </td><td>0.3          </td><td>0.1359312    </td><td>2.206999     </td><td>1            </td></tr>\n",
       "</tbody>\n",
       "</table>\n"
      ],
      "text/latex": [
       "\\begin{tabular}{r|lllllllllllllll}\n",
       " NAME & GEOID\\_17 & variable\\_17 & estimate\\_17 & moe\\_17 & GEOID\\_12 & variable\\_12 & estimate\\_12 & moe\\_12 & se\\_12 & se\\_17 & diff & se\\_diff & t\\_diff & signif\\\\\n",
       "\\hline\n",
       "\t Maryland          & 24                & S1701\\_C03\\_001 & 9.7               & 0.1               & 24                & DP03\\_0128P      & 9.4               & 0.2               & 0.1215805         & 0.06079027        & 0.3               & 0.1359312         & 2.206999          & 1                \\\\\n",
       "\\end{tabular}\n"
      ],
      "text/markdown": [
       "\n",
       "NAME | GEOID_17 | variable_17 | estimate_17 | moe_17 | GEOID_12 | variable_12 | estimate_12 | moe_12 | se_12 | se_17 | diff | se_diff | t_diff | signif | \n",
       "|---|\n",
       "| Maryland      | 24            | S1701_C03_001 | 9.7           | 0.1           | 24            | DP03_0128P    | 9.4           | 0.2           | 0.1215805     | 0.06079027    | 0.3           | 0.1359312     | 2.206999      | 1             | \n",
       "\n",
       "\n"
      ],
      "text/plain": [
       "  NAME     GEOID_17 variable_17   estimate_17 moe_17 GEOID_12 variable_12\n",
       "1 Maryland 24       S1701_C03_001 9.7         0.1    24       DP03_0128P \n",
       "  estimate_12 moe_12 se_12     se_17      diff se_diff   t_diff   signif\n",
       "1 9.4         0.2    0.1215805 0.06079027 0.3  0.1359312 2.206999 1     "
      ]
     },
     "metadata": {},
     "output_type": "display_data"
    }
   ],
   "source": [
    "pov_perc.merged <- pov_perc.merged %>% mutate(se_12 = moe_12/1.645,\n",
    "                                              se_17 = moe_17/1.645,\n",
    "                                              diff = estimate_17 - estimate_12,\n",
    "                                              se_diff = sqrt(se_12^2 + se_17^2),\n",
    "                                              t_diff = diff/se_diff,\n",
    "                                              signif = ifelse(abs(t_diff) > 1.645, 1, 0))\n",
    "\n",
    "pov_perc.merged"
   ]
  },
  {
   "cell_type": "markdown",
   "metadata": {},
   "source": [
    "The absolute value of `t_diff` is greater than 1.645 indicating significance at the 90 percent confidence level."
   ]
  },
  {
   "cell_type": "markdown",
   "metadata": {},
   "source": [
    "### \"The overall poverty rate is still twice as high for black residents as it is for white residents, when comparing the five-year ACS periods.\""
   ]
  },
  {
   "cell_type": "markdown",
   "metadata": {},
   "source": [
    "We will use the `tidycensus` package to get poverty rates for Maryland for black and non-Hispanic/Latino white residents in the 2013-17 ACS. For more information about race/ethnicity categories in the Census, click [here](http://www.pewsocialtrends.org/2015/06/11/chapter-1-race-and-multiracial-americans-in-the-u-s-census/)."
   ]
  },
  {
   "cell_type": "code",
   "execution_count": 141,
   "metadata": {},
   "outputs": [
    {
     "name": "stderr",
     "output_type": "stream",
     "text": [
      "Getting data from the 2013-2017 5-year ACS\n",
      "Using the ACS Subject Tables\n"
     ]
    }
   ],
   "source": [
    "pov_perc_race_17 = get_acs(geography = 'state', \n",
    "                           year = 2017,\n",
    "                           variables = c(black = 'S1701_C03_014',\n",
    "                                         white_nhl = 'S1701_C03_021'),\n",
    "                           state = \"MD\") "
   ]
  },
  {
   "cell_type": "code",
   "execution_count": 139,
   "metadata": {},
   "outputs": [
    {
     "data": {
      "text/html": [
       "<table>\n",
       "<thead><tr><th scope=col>GEOID</th><th scope=col>NAME</th><th scope=col>variable</th><th scope=col>estimate</th><th scope=col>moe</th></tr></thead>\n",
       "<tbody>\n",
       "\t<tr><td>24       </td><td>Maryland </td><td>black    </td><td>14.1     </td><td>0.3      </td></tr>\n",
       "\t<tr><td>24       </td><td>Maryland </td><td>white_nhl</td><td> 6.6     </td><td>0.2      </td></tr>\n",
       "</tbody>\n",
       "</table>\n"
      ],
      "text/latex": [
       "\\begin{tabular}{r|lllll}\n",
       " GEOID & NAME & variable & estimate & moe\\\\\n",
       "\\hline\n",
       "\t 24        & Maryland  & black     & 14.1      & 0.3      \\\\\n",
       "\t 24          & Maryland    & white\\_nhl &  6.6        & 0.2        \\\\\n",
       "\\end{tabular}\n"
      ],
      "text/markdown": [
       "\n",
       "GEOID | NAME | variable | estimate | moe | \n",
       "|---|---|\n",
       "| 24        | Maryland  | black     | 14.1      | 0.3       | \n",
       "| 24        | Maryland  | white_nhl |  6.6      | 0.2       | \n",
       "\n",
       "\n"
      ],
      "text/plain": [
       "  GEOID NAME     variable  estimate moe\n",
       "1 24    Maryland black     14.1     0.3\n",
       "2 24    Maryland white_nhl  6.6     0.2"
      ]
     },
     "metadata": {},
     "output_type": "display_data"
    }
   ],
   "source": [
    "pov_perc_race_17"
   ]
  },
  {
   "cell_type": "code",
   "execution_count": 138,
   "metadata": {},
   "outputs": [
    {
     "name": "stdout",
     "output_type": "stream",
     "text": [
      "[1] \"The overall poverty rate for black residents in Maryland is 2.1 times as high as it is for white residents, according to the 2103-17 ACS.\"\n"
     ]
    }
   ],
   "source": [
    "print(paste('The overall poverty rate for black residents in Maryland is', \n",
    "            round(pov_perc_race_17[pov_perc_race_17$variable == 'black', ]$estimate/\n",
    "                  pov_perc_race_17[pov_perc_race_17$variable == 'white_nhl', ]$estimate, 1),\n",
    "            'times as high as it is for white residents, according to the 2103-17 ACS.'))"
   ]
  },
  {
   "cell_type": "markdown",
   "metadata": {},
   "source": [
    "2008-12 ACS poverty rates for black and non-Hispanic/Latino white residents in Maryland were 14.5 percent and 6.2, respectively. These numbers can be found on the Census Bureau's American Factfinder tool [here](https://factfinder.census.gov/bkmk/table/1.0/en/ACS/12_5YR/S1701/0400000US24)."
   ]
  }
 ],
 "metadata": {
  "kernelspec": {
   "display_name": "R",
   "language": "R",
   "name": "ir"
  },
  "language_info": {
   "codemirror_mode": "r",
   "file_extension": ".r",
   "mimetype": "text/x-r-source",
   "name": "R",
   "pygments_lexer": "r",
   "version": "3.5.1"
  }
 },
 "nbformat": 4,
 "nbformat_minor": 2
}
